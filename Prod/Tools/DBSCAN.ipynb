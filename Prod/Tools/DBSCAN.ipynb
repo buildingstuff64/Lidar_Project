{
 "cells": [
  {
   "cell_type": "code",
   "execution_count": 1,
   "metadata": {},
   "outputs": [
    {
     "name": "stdout",
     "output_type": "stream",
     "text": [
      "Jupyter environment detected. Enabling Open3D WebVisualizer.\n",
      "[Open3D INFO] WebRTC GUI backend enabled.\n",
      "[Open3D INFO] WebRTCWindowSystem: HTTP handshake server disabled.\n"
     ]
    }
   ],
   "source": [
    "import open3d as o3d\n",
    "import numpy as np \n",
    "from matplotlib import pyplot as plt\n",
    "\n",
    "VOXEL_SIZE = 20"
   ]
  },
  {
   "cell_type": "code",
   "execution_count": 2,
   "metadata": {},
   "outputs": [],
   "source": [
    "# Load point clouds\n",
    "pcd_raw = [o3d.io.read_point_cloud('./view_1_rgb_pcd_light_obj_dectection_colour.ply'), \n",
    "           o3d.io.read_point_cloud('./view_2_rgb_pcd_light_obj_dectection_colour.ply'),\n",
    "           o3d.io.read_point_cloud('./view_3_rgb_pcd_light_obj_dectection_colour.ply'),\n",
    "           o3d.io.read_point_cloud('./view_4_rgb_pcd_light_obj_dectection_colour.ply'),\n",
    "           o3d.io.read_point_cloud('./view_5_rgb_pcd_light_obj_dectection_colour.ply'),\n",
    "           o3d.io.read_point_cloud('./view_6_rgb_pcd_light_obj_dectection_colour.ply')]\n",
    "\n",
    "# Downsample point clouds\n",
    "pcd_ds = []\n",
    "for pcd in pcd_raw:\n",
    "    pcd_ds.append(pcd.voxel_down_sample(voxel_size=VOXEL_SIZE))"
   ]
  },
  {
   "cell_type": "code",
   "execution_count": 3,
   "metadata": {},
   "outputs": [],
   "source": [
    "# Reference https://github.com/isl-org/Open3D/issues/5501\n",
    "def get_clusters(pcd, apply_label_colors = False, compute_aabbs = True, eps=500, min_points=10):\n",
    "        pcd, ind = pcd.remove_statistical_outlier(nb_neighbors=20,std_ratio=2.0)\n",
    "        labels = np.array(\n",
    "            pcd.cluster_dbscan(eps=eps, min_points=min_points, print_progress=False))\n",
    "\n",
    "        if labels.size == 0:\n",
    "            return None, None\n",
    "\n",
    "        max_label = labels.max()\n",
    "        \n",
    "        if apply_label_colors:\n",
    "            colors = plt.get_cmap(\"tab20\")(labels / (max_label if max_label > 0 else 1))\n",
    "            colors[labels < 0] = 0\n",
    "            pcd.colors = o3d.utility.Vector3dVector(colors[:, :3])\n",
    "        \n",
    "        clusters = [pcd.select_by_index(list(np.where(labels == i)[0])) for i in range(max_label + 1)]\n",
    "        aabbs    = [cluster.get_axis_aligned_bounding_box() for cluster in clusters] if compute_aabbs else []\n",
    "\n",
    "        for aabb in aabbs:\n",
    "            aabb.color = [0, 0, 0]\n",
    "\n",
    "        return clusters, aabbs"
   ]
  },
  {
   "cell_type": "code",
   "execution_count": 5,
   "metadata": {},
   "outputs": [],
   "source": [
    "pcd_crp = []\n",
    "for k, pcd in enumerate(pcd_ds):\n",
    "    clusters, aabbs = get_clusters(pcd)\n",
    "    pcd_crp.append(pcd_raw[k].crop(aabbs[0]))\n",
    "o3d.visualization.draw_geometries(pcd_crp)"
   ]
  },
  {
   "cell_type": "code",
   "execution_count": null,
   "metadata": {},
   "outputs": [
    {
     "data": {
      "text/plain": [
       "True"
      ]
     },
     "execution_count": 11,
     "metadata": {},
     "output_type": "execute_result"
    }
   ],
   "source": [
    "#o3d.io.write_point_cloud('./view_6_rgb_pcd_light_obj_dectection_colour_cropped.ply', pcd_crp[5])"
   ]
  }
 ],
 "metadata": {
  "kernelspec": {
   "display_name": "py3-teaser",
   "language": "python",
   "name": "python3"
  },
  "language_info": {
   "codemirror_mode": {
    "name": "ipython",
    "version": 3
   },
   "file_extension": ".py",
   "mimetype": "text/x-python",
   "name": "python",
   "nbconvert_exporter": "python",
   "pygments_lexer": "ipython3",
   "version": "3.6.13"
  }
 },
 "nbformat": 4,
 "nbformat_minor": 2
}
