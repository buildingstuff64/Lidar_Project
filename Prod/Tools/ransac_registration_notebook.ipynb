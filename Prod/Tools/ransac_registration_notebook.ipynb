{
 "cells": [
  {
   "cell_type": "markdown",
   "metadata": {},
   "source": [
    "<h1>Multiview Registration RANSAC</h1>"
   ]
  },
  {
   "cell_type": "code",
   "execution_count": 97,
   "metadata": {},
   "outputs": [],
   "source": [
    "from registration_funcs import *\n",
    "\n",
    "VOXEL_SIZE = 40 # 20 = normal, 15 = final"
   ]
  },
  {
   "cell_type": "markdown",
   "metadata": {},
   "source": [
    "Read raw point clouds"
   ]
  },
  {
   "cell_type": "code",
   "execution_count": 98,
   "metadata": {},
   "outputs": [
    {
     "name": "stdout",
     "output_type": "stream",
     "text": [
      "51853\n",
      "58858\n"
     ]
    }
   ],
   "source": [
    "pcd_A = o3d.io.read_point_cloud('./view_1_rgb_pcd_light_obj_dectection_colour.ply')\n",
    "pcd_B = o3d.io.read_point_cloud('./view_2_rgb_pcd_light_obj_dectection_colour.ply')\n",
    "\n",
    "print(number_of_points(pcd_A))\n",
    "print(number_of_points(pcd_B))"
   ]
  },
  {
   "cell_type": "markdown",
   "metadata": {},
   "source": [
    "Downsample raw point clouds"
   ]
  },
  {
   "cell_type": "code",
   "execution_count": 99,
   "metadata": {},
   "outputs": [
    {
     "name": "stdout",
     "output_type": "stream",
     "text": [
      "859\n",
      "635\n"
     ]
    }
   ],
   "source": [
    "pcd_A_ds = pcd_A.voxel_down_sample(voxel_size=VOXEL_SIZE)\n",
    "pcd_B_ds = pcd_B.voxel_down_sample(voxel_size=VOXEL_SIZE)\n",
    "\n",
    "print(number_of_points(pcd_A_ds))\n",
    "print(number_of_points(pcd_B_ds))"
   ]
  },
  {
   "cell_type": "markdown",
   "metadata": {},
   "source": [
    "Seperate object and background using DBSCAN"
   ]
  },
  {
   "cell_type": "code",
   "execution_count": 100,
   "metadata": {},
   "outputs": [],
   "source": [
    "clusters, aabbs = get_clusters(pcd_A_ds)\n",
    "pcd_A_crp = pcd_A_ds.crop(aabbs[1])\n",
    "\n",
    "clusters, aabbs = get_clusters(pcd_B_ds)\n",
    "pcd_B_crp = pcd_B_ds.crop(aabbs[0])\n",
    "\n",
    "o3d.visualization.draw_geometries([pcd_A_crp, pcd_B_crp])"
   ]
  },
  {
   "cell_type": "markdown",
   "metadata": {},
   "source": [
    "Disturb inital pose and calculate FPFH feature points"
   ]
  },
  {
   "cell_type": "code",
   "execution_count": 101,
   "metadata": {},
   "outputs": [
    {
     "name": "stdout",
     "output_type": "stream",
     "text": [
      ":: Load two point clouds and disturb initial pose.\n",
      ":: Estimate normal with search radius 80.000.\n",
      ":: Compute FPFH feature with search radius 200.000.\n",
      ":: Estimate normal with search radius 80.000.\n",
      ":: Compute FPFH feature with search radius 200.000.\n"
     ]
    }
   ],
   "source": [
    "source, target, source_down, target_down, source_fpfh, target_fpfh = prepare_dataset(pcd_A_crp, pcd_B_crp, VOXEL_SIZE)"
   ]
  },
  {
   "cell_type": "markdown",
   "metadata": {},
   "source": [
    "Compute transform using RANSAC"
   ]
  },
  {
   "cell_type": "code",
   "execution_count": 102,
   "metadata": {},
   "outputs": [
    {
     "name": "stdout",
     "output_type": "stream",
     "text": [
      ":: RANSAC registration on downsampled point clouds.\n",
      "   Since the downsampling voxel size is 40.000,\n",
      "   we use a liberal distance threshold 60.000.\n",
      "[Open3D WARNING] Too few correspondences (39) after mutual filter, fall back to original correspondences.\n",
      "RegistrationResult with fitness=7.482185e-01, inlier_rmse=3.429813e+01, and correspondence_set size of 315\n",
      "Access transformation to get result.\n"
     ]
    }
   ],
   "source": [
    "result_ransac = execute_global_registration(source_down, target_down, source_fpfh, target_fpfh, VOXEL_SIZE)\n",
    "print(result_ransac)"
   ]
  },
  {
   "cell_type": "markdown",
   "metadata": {},
   "source": [
    "Refine results using ICP"
   ]
  },
  {
   "cell_type": "code",
   "execution_count": 103,
   "metadata": {},
   "outputs": [
    {
     "name": "stdout",
     "output_type": "stream",
     "text": [
      ":: Point-to-plane ICP registration is applied on original point\n",
      "   clouds to refine the alignment. This time we use a strict\n",
      "   distance threshold 16.000.\n",
      "RegistrationResult with fitness=2.897862e-01, inlier_rmse=1.144847e+01, and correspondence_set size of 122\n",
      "Access transformation to get result.\n"
     ]
    }
   ],
   "source": [
    "result_icp = refine_registration(source, target, source_fpfh, target_fpfh, result_ransac, VOXEL_SIZE)\n",
    "print(result_icp)"
   ]
  },
  {
   "cell_type": "markdown",
   "metadata": {},
   "source": [
    "Display final result"
   ]
  },
  {
   "cell_type": "code",
   "execution_count": 105,
   "metadata": {},
   "outputs": [
    {
     "name": "stdout",
     "output_type": "stream",
     "text": [
      "764\n"
     ]
    }
   ],
   "source": [
    "output_pcd = get_registration_result(source, target, result_icp.transformation)\n",
    "o3d.visualization.draw_geometries([output_pcd])\n",
    "print(number_of_points(output_pcd))"
   ]
  }
 ],
 "metadata": {
  "kernelspec": {
   "display_name": "Python 3",
   "language": "python",
   "name": "python3"
  },
  "language_info": {
   "codemirror_mode": {
    "name": "ipython",
    "version": 3
   },
   "file_extension": ".py",
   "mimetype": "text/x-python",
   "name": "python",
   "nbconvert_exporter": "python",
   "pygments_lexer": "ipython3",
   "version": "3.11.8"
  }
 },
 "nbformat": 4,
 "nbformat_minor": 2
}
